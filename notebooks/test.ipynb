{
 "cells": [
  {
   "cell_type": "code",
   "execution_count": 1,
   "id": "db4eccb3",
   "metadata": {},
   "outputs": [
    {
     "name": "stderr",
     "output_type": "stream",
     "text": [
      "2021-08-17 17:59:33.648740: I tensorflow/stream_executor/platform/default/dso_loader.cc:53] Successfully opened dynamic library libcudart.so.11.0\n"
     ]
    }
   ],
   "source": [
    "import tensorflow as tf"
   ]
  },
  {
   "cell_type": "code",
   "execution_count": 3,
   "id": "55e59ed3",
   "metadata": {},
   "outputs": [
    {
     "data": {
      "text/plain": [
       "'2.5.0'"
      ]
     },
     "execution_count": 3,
     "metadata": {},
     "output_type": "execute_result"
    }
   ],
   "source": [
    "tf.__version__"
   ]
  },
  {
   "cell_type": "code",
   "execution_count": 2,
   "id": "5a886066",
   "metadata": {},
   "outputs": [
    {
     "name": "stdout",
     "output_type": "stream",
     "text": [
      "Traceback (most recent call last):\n",
      "  File \"/usr/local/bin/kaggle\", line 5, in <module>\n",
      "    from kaggle.cli import main\n",
      "  File \"/usr/local/lib/python3.8/dist-packages/kaggle/__init__.py\", line 23, in <module>\n",
      "    api.authenticate()\n",
      "  File \"/usr/local/lib/python3.8/dist-packages/kaggle/api/kaggle_api_extended.py\", line 164, in authenticate\n",
      "    raise IOError('Could not find {}. Make sure it\\'s located in'\n",
      "OSError: Could not find kaggle.json. Make sure it's located in /root/.kaggle. Or use the environment method.\n"
     ]
    }
   ],
   "source": [
    "!kaggle competitions download -c nfl-health-and-safety-helmet-assignment"
   ]
  },
  {
   "cell_type": "code",
   "execution_count": 5,
   "id": "f5272d4d",
   "metadata": {},
   "outputs": [
    {
     "name": "stdout",
     "output_type": "stream",
     "text": [
      "-rw-r--r-- 1 root root 65 Aug 18 08:11 /root/.kaggle\n"
     ]
    }
   ],
   "source": [
    "!ls -l /root/.kaggle"
   ]
  },
  {
   "cell_type": "code",
   "execution_count": 13,
   "id": "82cd5c67",
   "metadata": {},
   "outputs": [
    {
     "name": "stdout",
     "output_type": "stream",
     "text": [
      "total 23996\n",
      "drwx------ 1 root root     4096 Aug 18 08:13 .\n",
      "drwxr-xr-x 1 root root     4096 Aug 18 08:13 ..\n",
      "-rw-r--r-- 1 root root     3106 Dec  5  2019 .bashrc\n",
      "drwxr-xr-x 1 root root     4096 Aug 18 08:00 .cache\n",
      "drwxr-xr-x 3 root root     4096 Aug 17 17:46 .config\n",
      "drwxr-xr-x 5 root root     4096 Aug 18 08:13 .ipython\n",
      "drwxr-xr-x 3 root root     4096 Aug 18 08:13 .jupyter\n",
      "-rw-r--r-- 1 root root       65 Aug 18 08:11 .kaggle\n",
      "drwxr-xr-x 1 root root     4096 Aug 17 17:46 .local\n",
      "-rw-r--r-- 1 root root      161 Dec  5  2019 .profile\n",
      "-rw-r--r-- 1 root root      277 Aug 17 17:46 .wget-hsts\n",
      "-rw-r--r-- 1 root root 24497255 Jun  8 20:46 cpptools-linux.vsix\n",
      "-rw-r--r-- 1 root root    15583 Aug 17 17:46 install.sh\n",
      "-rw-rw-r-- 1 root root      329 Aug 17 17:52 requirements.txt\n"
     ]
    }
   ],
   "source": [
    "!ls -la /root/"
   ]
  },
  {
   "cell_type": "code",
   "execution_count": 8,
   "id": "5e797519",
   "metadata": {},
   "outputs": [
    {
     "name": "stdout",
     "output_type": "stream",
     "text": [
      "total 4\n",
      "-rw-r--r-- 1 root root 2730 Aug 18 08:15 test.ipynb\n"
     ]
    }
   ],
   "source": [
    "!ls -l"
   ]
  },
  {
   "cell_type": "code",
   "execution_count": null,
   "id": "2ed838b5",
   "metadata": {},
   "outputs": [],
   "source": []
  }
 ],
 "metadata": {
  "kernelspec": {
   "display_name": "Python 3 (ipykernel)",
   "language": "python",
   "name": "python3"
  },
  "language_info": {
   "codemirror_mode": {
    "name": "ipython",
    "version": 3
   },
   "file_extension": ".py",
   "mimetype": "text/x-python",
   "name": "python",
   "nbconvert_exporter": "python",
   "pygments_lexer": "ipython3",
   "version": "3.8.10"
  }
 },
 "nbformat": 4,
 "nbformat_minor": 5
}
